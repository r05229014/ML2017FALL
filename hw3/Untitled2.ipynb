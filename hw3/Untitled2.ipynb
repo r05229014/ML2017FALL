{
 "cells": [
  {
   "cell_type": "code",
   "execution_count": 1,
   "metadata": {},
   "outputs": [
    {
     "name": "stderr",
     "output_type": "stream",
     "text": [
      "Using TensorFlow backend.\n"
     ]
    }
   ],
   "source": [
    "import numpy as np\n",
    "from keras.models import Sequential\n",
    "from keras.layers import Dense, Dropout, Activation\n",
    "from keras.callbacks import EarlyStopping\n",
    "from keras.layers import Dense, Activation, Conv2D, MaxPooling2D, Flatten\n"
   ]
  },
  {
   "cell_type": "code",
   "execution_count": 2,
   "metadata": {
    "collapsed": true
   },
   "outputs": [],
   "source": [
    "f = open('./data/train.csv','r')\n",
    "datas = f.readlines()[1:]\n",
    "Y_train = []\n",
    "X_train = []\n",
    "n = 0\n",
    "for data in datas:\n",
    "    X_train.append([])\n",
    "    label, pixels = data.split(',')\n",
    "    pixels = np.array(list(map(float,pixels.split(' '))))\n",
    "    X_train[n] = pixels.reshape((48,48,1))\n",
    "    Y_train.append(float(label))\n",
    "    n += 1\n",
    "\n",
    "X_train = np.array(X_train) / 255\n",
    "Y_train = np.array(Y_train)\n",
    "Y_train = np.eye(7)[list(map(int,Y_train))]"
   ]
  },
  {
   "cell_type": "code",
   "execution_count": 13,
   "metadata": {
    "collapsed": true
   },
   "outputs": [],
   "source": [
    "X_train = X_train/255"
   ]
  },
  {
   "cell_type": "code",
   "execution_count": null,
   "metadata": {},
   "outputs": [
    {
     "name": "stdout",
     "output_type": "stream",
     "text": [
      "Epoch 1/20\n",
      " 1344/28709 [>.............................] - ETA: 530s - loss: 1.8619 - acc: 0.2247"
     ]
    }
   ],
   "source": [
    "from keras.layers.normalization import BatchNormalization\n",
    "\n",
    "## Initialize\n",
    "#model =  Sequential()\n",
    "## add CNN \n",
    "#model.add(Conv2D(25, (3, 3), input_shape=(48,48,1)))\n",
    "#model.add(MaxPooling2D((2,2)))\n",
    "#model.add(Conv2D(50, (3, 3)))\n",
    "#model.add(MaxPooling2D((2,2)))\n",
    "#model.add(Dropout(0.2))\n",
    "#model.add(Flatten())\n",
    "#model.add(BatchNormalization())\n",
    "## add DNN\n",
    "#model.add(Dense(66, kernel_initializer=\"uniform\", use_bias=True,activation = 'relu'))\n",
    "#model.add(Dropout(0.5))\n",
    "#model.add(BatchNormalization())\n",
    "#model.add(Dense(7, kernel_initializer=\"uniform\", use_bias=True,activation = 'softmax'))\n",
    "#model.compile(optimizer = 'adam', loss = 'categorical_crossentropy', metrics = ['accuracy'])\n",
    "### fit\n",
    "#model.fit(X_train, Y_train, batch_size=128, epochs=20,shuffle=True)\n",
    "\n",
    "model = Sequential()\n",
    "\n",
    "model.add(Conv2D(32, (3, 3), padding='same',input_shape=(48,48,1)))\n",
    "model.add(Activation('relu'))\n",
    "model.add(Conv2D(32, (3, 3)))\n",
    "model.add(Activation('relu'))\n",
    "model.add(MaxPooling2D(pool_size=(2, 2)))\n",
    "model.add(Dropout(0.25))\n",
    "\n",
    "model.add(Conv2D(64, (3, 3), padding='same'))\n",
    "model.add(Activation('relu'))\n",
    "model.add(Conv2D(64, (3, 3)))\n",
    "model.add(Activation('relu'))\n",
    "model.add(MaxPooling2D(pool_size=(2, 2)))\n",
    "model.add(Dropout(0.25))\n",
    "\n",
    "model.add(Flatten())\n",
    "model.add(Dense(512))\n",
    "model.add(Activation('relu'))\n",
    "model.add(Dropout(0.5))\n",
    "model.add(Dense(7))\n",
    "model.add(Activation('softmax'))\n",
    "\n",
    "from keras.optimizers import rmsprop\n",
    "# initiate RMSprop optimizer\n",
    "opt = rmsprop(lr=0.0001, decay=1e-6)\n",
    "\n",
    "# Let's train the model using RMSprop\n",
    "model.compile(loss='categorical_crossentropy',\n",
    "              optimizer=opt,\n",
    "              metrics=['accuracy'])\n",
    "model.fit(X_train, Y_train, batch_size=32, epochs=20,shuffle=True)\n"
   ]
  },
  {
   "cell_type": "code",
   "execution_count": 6,
   "metadata": {},
   "outputs": [
    {
     "name": "stdout",
     "output_type": "stream",
     "text": [
      "28704/28709 [============================>.] - ETA: 0s"
     ]
    },
    {
     "data": {
      "text/plain": [
       "[0.43919388471366744, 0.87077223170434359]"
      ]
     },
     "execution_count": 6,
     "metadata": {},
     "output_type": "execute_result"
    }
   ],
   "source": [
    "model.evaluate(X_train,Y_train)"
   ]
  },
  {
   "cell_type": "code",
   "execution_count": 7,
   "metadata": {
    "collapsed": true
   },
   "outputs": [],
   "source": [
    "from keras.models import load_model\n",
    "model.save('my_model2.h5')"
   ]
  },
  {
   "cell_type": "code",
   "execution_count": 8,
   "metadata": {
    "collapsed": true
   },
   "outputs": [],
   "source": [
    "f = open('./data/test.csv','r')\n",
    "datas = f.readlines()[1:]\n",
    "X_test = []\n",
    "n=0\n",
    "for data in datas:\n",
    "    X_test.append([])\n",
    "    idd,pixels = data.split(',')\n",
    "    pixels = np.array(list(map(float,pixels.split(' '))))\n",
    "    X_test[n] = pixels.reshape((48,48,1))\n",
    "    n += 1\n",
    "X_test = np.array(X_test)"
   ]
  },
  {
   "cell_type": "code",
   "execution_count": 9,
   "metadata": {
    "collapsed": true
   },
   "outputs": [],
   "source": [
    "ans = model.predict(X_test)\n"
   ]
  },
  {
   "cell_type": "code",
   "execution_count": 10,
   "metadata": {
    "collapsed": true
   },
   "outputs": [],
   "source": [
    "result = []\n",
    "for i in range(ans.shape[0]):\n",
    "    result.append(np.argmax(ans[i]))\n",
    "result = np.array(result)"
   ]
  },
  {
   "cell_type": "code",
   "execution_count": 11,
   "metadata": {},
   "outputs": [
    {
     "data": {
      "text/plain": [
       "2"
      ]
     },
     "execution_count": 11,
     "metadata": {},
     "output_type": "execute_result"
    }
   ],
   "source": [
    "result[7177]"
   ]
  },
  {
   "cell_type": "code",
   "execution_count": 12,
   "metadata": {
    "collapsed": true
   },
   "outputs": [],
   "source": [
    "import csv\n",
    "out = []\n",
    "out.append([\"id\", \"label\"])\n",
    "for i in range(result.shape[0]):\n",
    "     out.append([i,result[i]])\n",
    "\n",
    "filename = 'result.csv'\n",
    "with open(filename,'w+') as f:\n",
    "    s = csv.writer(f,delimiter=',',lineterminator='\\n')\n",
    "    for i in range(len(out)):\n",
    "        s.writerow(out[i])\n"
   ]
  },
  {
   "cell_type": "code",
   "execution_count": 51,
   "metadata": {},
   "outputs": [
    {
     "data": {
      "text/plain": [
       "7179"
      ]
     },
     "execution_count": 51,
     "metadata": {},
     "output_type": "execute_result"
    }
   ],
   "source": [
    "len(out)"
   ]
  },
  {
   "cell_type": "code",
   "execution_count": 50,
   "metadata": {},
   "outputs": [
    {
     "data": {
      "text/plain": [
       "4"
      ]
     },
     "execution_count": 50,
     "metadata": {},
     "output_type": "execute_result"
    }
   ],
   "source": [
    "result[-1]"
   ]
  },
  {
   "cell_type": "code",
   "execution_count": null,
   "metadata": {
    "collapsed": true
   },
   "outputs": [],
   "source": []
  }
 ],
 "metadata": {
  "kernelspec": {
   "display_name": "Python 3",
   "language": "python",
   "name": "python3"
  },
  "language_info": {
   "codemirror_mode": {
    "name": "ipython",
    "version": 3
   },
   "file_extension": ".py",
   "mimetype": "text/x-python",
   "name": "python",
   "nbconvert_exporter": "python",
   "pygments_lexer": "ipython3",
   "version": "3.6.2"
  }
 },
 "nbformat": 4,
 "nbformat_minor": 2
}
