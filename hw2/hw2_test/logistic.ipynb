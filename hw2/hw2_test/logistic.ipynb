{
 "cells": [
  {
   "cell_type": "code",
   "execution_count": 1,
   "metadata": {
    "collapsed": true
   },
   "outputs": [],
   "source": [
    "import os, sys\n",
    "import numpy as np\n",
    "from random import shuffle\n",
    "import argparse\n",
    "from math import log, floor\n",
    "import pandas as pd"
   ]
  },
  {
   "cell_type": "code",
   "execution_count": 2,
   "metadata": {
    "collapsed": true
   },
   "outputs": [],
   "source": [
    "def load_data(train_data_path, train_label_path, test_data_path):\n",
    "    X_train = pd.read_csv(train_data_path, sep=',', header=0)\n",
    "    X_train = np.array(X_train.values)\n",
    "    Y_train = pd.read_csv(train_label_path, sep=',', header=0)\n",
    "    Y_train = np.array(Y_train.values)\n",
    "    X_test = pd.read_csv(test_data_path, sep=',', header=0)\n",
    "    X_test = np.array(X_test.values)\n",
    "\n",
    "    return (X_train, Y_train, X_test)"
   ]
  },
  {
   "cell_type": "code",
   "execution_count": 3,
   "metadata": {
    "collapsed": true
   },
   "outputs": [],
   "source": [
    "def _shuffle(X, Y):\n",
    "    randomize = np.arange(len(X))\n",
    "    np.random.shuffle(randomize)\n",
    "    return (X[randomize], Y[randomize])"
   ]
  },
  {
   "cell_type": "code",
   "execution_count": 4,
   "metadata": {
    "collapsed": true
   },
   "outputs": [],
   "source": [
    "def normalize(X_all, X_test):\n",
    "    # Feature normalization with train and test X\n",
    "    X_train_test = np.concatenate((X_all, X_test))\n",
    "    mu = (sum(X_train_test) / X_train_test.shape[0])\n",
    "    sigma = np.std(X_train_test, axis=0)\n",
    "    mu = np.tile(mu, (X_train_test.shape[0], 1))\n",
    "    sigma = np.tile(sigma, (X_train_test.shape[0], 1))\n",
    "    X_train_test_normed = (X_train_test - mu) / sigma\n",
    "\n",
    "    # Split to train, test again\n",
    "    X_all = X_train_test_normed[0:X_all.shape[0]]\n",
    "    X_test = X_train_test_normed[X_all.shape[0]:]\n",
    "    return X_all, X_test"
   ]
  },
  {
   "cell_type": "code",
   "execution_count": 5,
   "metadata": {
    "collapsed": true
   },
   "outputs": [],
   "source": [
    "def split_valid_set(X_all, Y_all, percentage):\n",
    "    all_data_size = len(X_all)\n",
    "    valid_data_size = int(floor(all_data_size * percentage))\n",
    "\n",
    "    X_all, Y_all = _shuffle(X_all, Y_all)\n",
    "\n",
    "    X_train, Y_train = X_all[0:valid_data_size], Y_all[0:valid_data_size]\n",
    "    X_valid, Y_valid = X_all[valid_data_size:], Y_all[valid_data_size:]\n",
    "\n",
    "    return X_train, Y_train, X_valid, Y_valid"
   ]
  },
  {
   "cell_type": "code",
   "execution_count": 6,
   "metadata": {
    "collapsed": true
   },
   "outputs": [],
   "source": [
    "def sigmoid(z):\n",
    "    res = 1 / (1.0 + np.exp(-z))\n",
    "    return np.clip(res, 1e-8, 1-(1e-8))"
   ]
  },
  {
   "cell_type": "code",
   "execution_count": 7,
   "metadata": {
    "collapsed": true
   },
   "outputs": [],
   "source": [
    "def valid(w, b, X_valid, Y_valid):\n",
    "    valid_data_size = len(X_valid)\n",
    "\n",
    "    z = (np.dot(X_valid, np.transpose(w)) + b)\n",
    "    y = sigmoid(z)\n",
    "    y_ = np.around(y)\n",
    "    result = (np.squeeze(Y_valid) == y_)\n",
    "    print('Validation acc = %f' % (float(result.sum()) / valid_data_size))\n",
    "    return"
   ]
  },
  {
   "cell_type": "code",
   "execution_count": 8,
   "metadata": {
    "collapsed": true
   },
   "outputs": [],
   "source": [
    "def train(X_all, Y_all, save_dir):\n",
    "    # Split a 10%-validation set from the training set\n",
    "    valid_set_percentage = 0.1\n",
    "    X_train, Y_train, X_valid, Y_valid = split_valid_set(X_all, Y_all, valid_set_percentage)\n",
    "\n",
    "    # Initiallize parameter, hyperparameter\n",
    "    w = np.zeros((106,))\n",
    "    b = np.zeros((1,))\n",
    "    l_rate = 0.1\n",
    "    batch_size = 32\n",
    "    train_data_size = len(X_train)\n",
    "    step_num = int(floor(train_data_size / batch_size))\n",
    "    epoch_num = 1000\n",
    "    save_param_iter = 50\n",
    "\n",
    "    # Start training\n",
    "    total_loss = 0.0\n",
    "    for epoch in range(1, epoch_num):\n",
    "        # Do validation and parameter saving\n",
    "        if (epoch) % save_param_iter == 0:\n",
    "            print('=====Saving Param at epoch %d=====' % epoch)\n",
    "            if not os.path.exists(save_dir):\n",
    "                os.mkdir(save_dir)\n",
    "            np.savetxt(os.path.join(save_dir, 'w'), w)\n",
    "            np.savetxt(os.path.join(save_dir, 'b'), [b,])\n",
    "            print('epoch avg loss = %f' % (total_loss / (float(save_param_iter) * train_data_size)))\n",
    "            total_loss = 0.0\n",
    "            valid(w, b, X_valid, Y_valid)\n",
    "\n",
    "        # Random shuffle\n",
    "        X_train, Y_train = _shuffle(X_train, Y_train)\n",
    "\n",
    "        # Train with batch\n",
    "        for idx in range(step_num):\n",
    "            X = X_train[idx*batch_size:(idx+1)*batch_size]\n",
    "            Y = Y_train[idx*batch_size:(idx+1)*batch_size]\n",
    "\n",
    "            z = np.dot(X, np.transpose(w)) + b\n",
    "            y = sigmoid(z)\n",
    "\n",
    "            cross_entropy = -1 * (np.dot(np.squeeze(Y), np.log(y)) + np.dot((1 - np.squeeze(Y)), np.log(1 - y)))\n",
    "            total_loss += cross_entropy\n",
    "\n",
    "            w_grad = np.mean(-1 * X * (np.squeeze(Y) - y).reshape((batch_size,1)), axis=0)\n",
    "            b_grad = np.mean(-1 * (np.squeeze(Y) - y))\n",
    "\n",
    "            # SGD updating parameters\n",
    "            w = w - l_rate * w_grad\n",
    "            b = b - l_rate * b_grad\n",
    "\n",
    "    return"
   ]
  },
  {
   "cell_type": "code",
   "execution_count": 9,
   "metadata": {
    "collapsed": true
   },
   "outputs": [],
   "source": [
    "def infer(X_test, save_dir, output_dir):\n",
    "    test_data_size = len(X_test)\n",
    "\n",
    "    # Load parameters\n",
    "    print('=====Loading Param from %s=====' % save_dir)\n",
    "    w = np.loadtxt(os.path.join(save_dir, 'w'))\n",
    "    b = np.loadtxt(os.path.join(save_dir, 'b'))\n",
    "\n",
    "    # predict\n",
    "    z = (np.dot(X_test, np.transpose(w)) + b)\n",
    "    y = sigmoid(z)\n",
    "    y_ = np.around(y)\n",
    "\n",
    "    print('=====Write output to %s =====' % output_dir)\n",
    "    if not os.path.exists(output_dir):\n",
    "        os.mkdir(output_dir)\n",
    "    output_path = os.path.join(output_dir, 'log_prediction.csv')\n",
    "    with open(output_path, 'w') as f:\n",
    "        f.write('id,label\\n')\n",
    "        for i, v in  enumerate(y_):\n",
    "            f.write('%d,%d\\n' %(i+1, v))\n",
    "\n",
    "    return"
   ]
  },
  {
   "cell_type": "code",
   "execution_count": 42,
   "metadata": {},
   "outputs": [
    {
     "name": "stdout",
     "output_type": "stream",
     "text": [
      "=====Saving Param at epoch 50=====\n",
      "epoch avg loss = 0.314630\n",
      "Validation acc = 0.847466\n",
      "=====Saving Param at epoch 100=====\n",
      "epoch avg loss = 0.315830\n",
      "Validation acc = 0.847535\n",
      "=====Saving Param at epoch 150=====\n",
      "epoch avg loss = 0.315779\n",
      "Validation acc = 0.847637\n",
      "=====Saving Param at epoch 200=====\n",
      "epoch avg loss = 0.315478\n",
      "Validation acc = 0.846238\n",
      "=====Saving Param at epoch 250=====\n",
      "epoch avg loss = 0.315798\n",
      "Validation acc = 0.848115\n",
      "=====Saving Param at epoch 300=====\n",
      "epoch avg loss = 0.315659\n",
      "Validation acc = 0.847535\n",
      "=====Saving Param at epoch 350=====\n",
      "epoch avg loss = 0.315415\n",
      "Validation acc = 0.848012\n",
      "=====Saving Param at epoch 400=====\n",
      "epoch avg loss = 0.315591\n",
      "Validation acc = 0.847296\n",
      "=====Saving Param at epoch 450=====\n",
      "epoch avg loss = 0.315550\n",
      "Validation acc = 0.846818\n",
      "=====Saving Param at epoch 500=====\n",
      "epoch avg loss = 0.315567\n",
      "Validation acc = 0.846545\n",
      "=====Saving Param at epoch 550=====\n",
      "epoch avg loss = 0.315632\n",
      "Validation acc = 0.846272\n",
      "=====Saving Param at epoch 600=====\n",
      "epoch avg loss = 0.315853\n",
      "Validation acc = 0.846784\n",
      "=====Saving Param at epoch 650=====\n",
      "epoch avg loss = 0.315722\n",
      "Validation acc = 0.847364\n",
      "=====Saving Param at epoch 700=====\n",
      "epoch avg loss = 0.315641\n",
      "Validation acc = 0.847808\n",
      "=====Saving Param at epoch 750=====\n",
      "epoch avg loss = 0.315545\n",
      "Validation acc = 0.847535\n",
      "=====Saving Param at epoch 800=====\n",
      "epoch avg loss = 0.315554\n",
      "Validation acc = 0.846306\n",
      "=====Saving Param at epoch 850=====\n",
      "epoch avg loss = 0.315526\n",
      "Validation acc = 0.844702\n",
      "=====Saving Param at epoch 900=====\n",
      "epoch avg loss = 0.315585\n",
      "Validation acc = 0.847330\n",
      "=====Saving Param at epoch 950=====\n",
      "epoch avg loss = 0.315821\n",
      "Validation acc = 0.846852\n",
      "=====Loading Param from logistic_params=====\n",
      "=====Write output to result_logistic =====\n"
     ]
    }
   ],
   "source": [
    "def main():\n",
    "    save_dir = 'logistic_params'\n",
    "    output_dir = 'result_logistic'\n",
    "    # Load feature and label\n",
    "    X_all, Y_all, X_test = load_data('../data/X_train', '../data/Y_train', '../data/X_test')\n",
    "    # Normalization\n",
    "    X_all, X_test = normalize(X_all, X_test)\n",
    "\n",
    "    # To train or to infer\n",
    "\n",
    "    train(X_all, Y_all, save_dir)\n",
    "    infer(X_test, save_dir, output_dir)\n",
    "\n",
    "main()\n",
    "    "
   ]
  }
 ],
 "metadata": {
  "kernelspec": {
   "display_name": "Python 3",
   "language": "python",
   "name": "python3"
  },
  "language_info": {
   "codemirror_mode": {
    "name": "ipython",
    "version": 3
   },
   "file_extension": ".py",
   "mimetype": "text/x-python",
   "name": "python",
   "nbconvert_exporter": "python",
   "pygments_lexer": "ipython3",
   "version": "3.6.2"
  }
 },
 "nbformat": 4,
 "nbformat_minor": 2
}
